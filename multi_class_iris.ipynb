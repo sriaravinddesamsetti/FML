{
  "nbformat": 4,
  "nbformat_minor": 0,
  "metadata": {
    "colab": {
      "name": "multi_class_iris.ipynb",
      "provenance": [],
      "authorship_tag": "ABX9TyMlK9GbtzU4qThKh8LWdsea",
      "include_colab_link": true
    },
    "kernelspec": {
      "name": "python3",
      "display_name": "Python 3"
    },
    "language_info": {
      "name": "python"
    }
  },
  "cells": [
    {
      "cell_type": "markdown",
      "metadata": {
        "id": "view-in-github",
        "colab_type": "text"
      },
      "source": [
        "<a href=\"https://colab.research.google.com/github/sriaravinddesamsetti/FML/blob/main/multi_class_iris.ipynb\" target=\"_parent\"><img src=\"https://colab.research.google.com/assets/colab-badge.svg\" alt=\"Open In Colab\"/></a>"
      ]
    },
    {
      "cell_type": "markdown",
      "source": [
        "**Iris Classifier using Multi Class Logistic Regression.**"
      ],
      "metadata": {
        "id": "2rn3c--ffQ_w"
      }
    },
    {
      "cell_type": "markdown",
      "source": [
        "Import Packages, Functions and classes"
      ],
      "metadata": {
        "id": "T3Ygni5efaCl"
      }
    },
    {
      "cell_type": "code",
      "source": [
        "import matplotlib.pyplot as plt\n",
        "import numpy as np\n",
        "from sklearn.datasets import load_iris\n",
        "from sklearn.model_selection import train_test_split\n",
        "from sklearn.preprocessing import StandardScaler\n",
        "from sklearn.linear_model import LogisticRegression\n",
        "from sklearn.metrics import classification_report, confusion_matrix"
      ],
      "metadata": {
        "id": "wtmnYYYvfg_O"
      },
      "execution_count": 1,
      "outputs": []
    },
    {
      "cell_type": "markdown",
      "source": [
        "load the data"
      ],
      "metadata": {
        "id": "sKxFzn5lfrPi"
      }
    },
    {
      "cell_type": "code",
      "source": [
        "iris=load_iris()\n"
      ],
      "metadata": {
        "id": "90Axue9FfubT"
      },
      "execution_count": 2,
      "outputs": []
    },
    {
      "cell_type": "markdown",
      "source": [
        "Features are *"
      ],
      "metadata": {
        "id": "-YGrCU_rfyfG"
      }
    },
    {
      "cell_type": "code",
      "source": [
        "iris.feature_names"
      ],
      "metadata": {
        "colab": {
          "base_uri": "https://localhost:8080/"
        },
        "id": "1g2etTbjf3BC",
        "outputId": "0d8ee4d2-f74a-48fc-fd87-ba0919197e32"
      },
      "execution_count": 3,
      "outputs": [
        {
          "output_type": "execute_result",
          "data": {
            "text/plain": [
              "['sepal length (cm)',\n",
              " 'sepal width (cm)',\n",
              " 'petal length (cm)',\n",
              " 'petal width (cm)']"
            ]
          },
          "metadata": {},
          "execution_count": 3
        }
      ]
    },
    {
      "cell_type": "markdown",
      "source": [
        "Labels are :"
      ],
      "metadata": {
        "id": "nMqs7CWSf6tz"
      }
    },
    {
      "cell_type": "code",
      "source": [
        "print(iris.target_names)"
      ],
      "metadata": {
        "colab": {
          "base_uri": "https://localhost:8080/"
        },
        "id": "qb-tx2ztf-ls",
        "outputId": "712f2b68-b3c8-4721-d554-33707994358f"
      },
      "execution_count": 4,
      "outputs": [
        {
          "output_type": "stream",
          "name": "stdout",
          "text": [
            "['setosa' 'versicolor' 'virginica']\n"
          ]
        }
      ]
    },
    {
      "cell_type": "markdown",
      "source": [
        "Now split the data into training data and testing data"
      ],
      "metadata": {
        "id": "0UesMV7NgFB4"
      }
    },
    {
      "cell_type": "code",
      "source": [
        "X_train, X_test, y_train, y_test = train_test_split(iris.data, iris.target, test_size=0.1, random_state=41)\n"
      ],
      "metadata": {
        "id": "q2SOYeGMgIam"
      },
      "execution_count": 5,
      "outputs": []
    },
    {
      "cell_type": "markdown",
      "source": [
        "Fit the hyper-parameter(c) and training data.\n",
        "\n"
      ],
      "metadata": {
        "id": "IKDryudmgL0f"
      }
    },
    {
      "cell_type": "code",
      "source": [
        "model = LogisticRegression(C=5, multi_class='ovr',random_state=0)\n",
        "model.fit(X_train, y_train)"
      ],
      "metadata": {
        "colab": {
          "base_uri": "https://localhost:8080/"
        },
        "id": "rv0TeEmNgN_p",
        "outputId": "0d5093ff-1bb4-42a0-b2e4-3d3cd39cf1d1"
      },
      "execution_count": 6,
      "outputs": [
        {
          "output_type": "execute_result",
          "data": {
            "text/plain": [
              "LogisticRegression(C=5, multi_class='ovr', random_state=0)"
            ]
          },
          "metadata": {},
          "execution_count": 6
        }
      ]
    },
    {
      "cell_type": "code",
      "source": [
        "y_pred=model.predict(X_test)"
      ],
      "metadata": {
        "id": "sJ35m_ONkqOd"
      },
      "execution_count": 11,
      "outputs": []
    },
    {
      "cell_type": "markdown",
      "source": [
        "Measure the performance of Training data.\n",
        "\n"
      ],
      "metadata": {
        "id": "fpJPI6j0gRMc"
      }
    },
    {
      "cell_type": "code",
      "source": [
        "model.score(X_train, y_train)\n"
      ],
      "metadata": {
        "colab": {
          "base_uri": "https://localhost:8080/"
        },
        "id": "hrjuR4eEgUJW",
        "outputId": "369b0ab1-1546-4968-aceb-ff5e36db2cb3"
      },
      "execution_count": 7,
      "outputs": [
        {
          "output_type": "execute_result",
          "data": {
            "text/plain": [
              "0.9629629629629629"
            ]
          },
          "metadata": {},
          "execution_count": 7
        }
      ]
    },
    {
      "cell_type": "markdown",
      "source": [
        "Measure the performance of Testing data.\n",
        "\n"
      ],
      "metadata": {
        "id": "EJgPqjaHgevF"
      }
    },
    {
      "cell_type": "code",
      "source": [
        "model.score(X_test, y_test)\n"
      ],
      "metadata": {
        "colab": {
          "base_uri": "https://localhost:8080/"
        },
        "id": "Tw-X6teygfXg",
        "outputId": "f28ea2ae-01b3-4e88-bbcb-7f15e4b067f2"
      },
      "execution_count": 8,
      "outputs": [
        {
          "output_type": "execute_result",
          "data": {
            "text/plain": [
              "0.9333333333333333"
            ]
          },
          "metadata": {},
          "execution_count": 8
        }
      ]
    },
    {
      "cell_type": "markdown",
      "source": [
        "Build a Confusion matrix for actual label data and predicted label data.\n",
        "\n"
      ],
      "metadata": {
        "id": "HP-ZNbWFgiKX"
      }
    },
    {
      "cell_type": "code",
      "source": [
        "confusion_matrix(y_test, y_pred)\n"
      ],
      "metadata": {
        "colab": {
          "base_uri": "https://localhost:8080/"
        },
        "id": "y7D0_2Z-gkNH",
        "outputId": "6a71ff14-5ea8-4da3-d98e-9b7a2cdaad87"
      },
      "execution_count": 12,
      "outputs": [
        {
          "output_type": "execute_result",
          "data": {
            "text/plain": [
              "array([[3, 0, 0],\n",
              "       [0, 4, 0],\n",
              "       [0, 1, 7]])"
            ]
          },
          "metadata": {},
          "execution_count": 12
        }
      ]
    },
    {
      "cell_type": "markdown",
      "source": [
        "Find all the evaluation metrics like accuracy,precision,recall and f1-score\n",
        "\n"
      ],
      "metadata": {
        "id": "_0ZVYei-k9fp"
      }
    },
    {
      "cell_type": "code",
      "source": [
        "print(classification_report(y_test, y_pred))\n"
      ],
      "metadata": {
        "colab": {
          "base_uri": "https://localhost:8080/"
        },
        "id": "xi0umbDbk-O5",
        "outputId": "b814bbb0-e088-417b-b406-e06d1c33b532"
      },
      "execution_count": 13,
      "outputs": [
        {
          "output_type": "stream",
          "name": "stdout",
          "text": [
            "              precision    recall  f1-score   support\n",
            "\n",
            "           0       1.00      1.00      1.00         3\n",
            "           1       0.80      1.00      0.89         4\n",
            "           2       1.00      0.88      0.93         8\n",
            "\n",
            "    accuracy                           0.93        15\n",
            "   macro avg       0.93      0.96      0.94        15\n",
            "weighted avg       0.95      0.93      0.93        15\n",
            "\n"
          ]
        }
      ]
    },
    {
      "cell_type": "markdown",
      "source": [
        "**CONCLUSION **: We can say that our model perform well."
      ],
      "metadata": {
        "id": "umkzGZEQlEDL"
      }
    }
  ]
}